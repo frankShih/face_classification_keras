{
 "cells": [
  {
   "cell_type": "code",
   "execution_count": 21,
   "metadata": {},
   "outputs": [],
   "source": [
    "#!/usr/bin/env python3  \n",
    "from keras.datasets import mnist  \n",
    "from keras.utils import np_utils  \n",
    "import numpy as np  \n",
    "np.random.seed(10)  \n",
    "  \n",
    "# Read MNIST data  \n",
    "(X_Train, y_Train), (X_Test, y_Test) = mnist.load_data()  \n",
    "  \n",
    "# Translation of data  \n",
    "X_Train40 = X_Train.reshape(X_Train.shape[0], 1, 28, 28).astype('float32')  \n",
    "X_Test40 = X_Test.reshape(X_Test.shape[0], 1, 28, 28).astype('float32')  "
   ]
  },
  {
   "cell_type": "code",
   "execution_count": 22,
   "metadata": {},
   "outputs": [],
   "source": [
    "# Standardize feature data  \n",
    "X_Train40_norm = X_Train40 / 255  \n",
    "X_Test40_norm = X_Test40 /255  \n",
    "  \n",
    "# Label Onehot-encoding  \n",
    "y_TrainOneHot = np_utils.to_categorical(y_Train)  \n",
    "y_TestOneHot = np_utils.to_categorical(y_Test)  "
   ]
  },
  {
   "cell_type": "code",
   "execution_count": 4,
   "metadata": {},
   "outputs": [],
   "source": [
    "from keras.models import Sequential  \n",
    "from keras.layers import Dense,Dropout,Flatten,Conv2D,MaxPooling2D  \n",
    "  \n",
    "model = Sequential()  \n",
    "# Create CN layer 1  \n",
    "model.add(Conv2D(filters=16,  \n",
    "                 kernel_size=(5,5),  \n",
    "                 padding='same',  \n",
    "                 input_shape=(28,28,1),  \n",
    "                 activation='relu'))  \n",
    "# Create Max-Pool 1  \n",
    "model.add(MaxPooling2D(pool_size=(2,2)))  \n",
    "  \n",
    "# Create CN layer 2  \n",
    "model.add(Conv2D(filters=36,  \n",
    "                 kernel_size=(5,5),  \n",
    "                 padding='same',  \n",
    "                 input_shape=(28,28,1),  \n",
    "                 activation='relu'))  \n",
    "  \n",
    "# Create Max-Pool 2  \n",
    "model.add(MaxPooling2D(pool_size=(2,2)))  \n",
    "  \n",
    "# Add Dropout layer  \n",
    "model.add(Dropout(0.25))"
   ]
  },
  {
   "cell_type": "code",
   "execution_count": 5,
   "metadata": {},
   "outputs": [
    {
     "name": "stdout",
     "output_type": "stream",
     "text": [
      "_________________________________________________________________\n",
      "Layer (type)                 Output Shape              Param #   \n",
      "=================================================================\n",
      "conv2d_3 (Conv2D)            (None, 28, 28, 16)        416       \n",
      "_________________________________________________________________\n",
      "max_pooling2d_3 (MaxPooling2 (None, 14, 14, 16)        0         \n",
      "_________________________________________________________________\n",
      "conv2d_4 (Conv2D)            (None, 14, 14, 36)        14436     \n",
      "_________________________________________________________________\n",
      "max_pooling2d_4 (MaxPooling2 (None, 7, 7, 36)          0         \n",
      "_________________________________________________________________\n",
      "dropout_2 (Dropout)          (None, 7, 7, 36)          0         \n",
      "_________________________________________________________________\n",
      "flatten_1 (Flatten)          (None, 1764)              0         \n",
      "_________________________________________________________________\n",
      "dense_1 (Dense)              (None, 128)               225920    \n",
      "_________________________________________________________________\n",
      "dropout_3 (Dropout)          (None, 128)               0         \n",
      "_________________________________________________________________\n",
      "dense_2 (Dense)              (None, 10)                1290      \n",
      "=================================================================\n",
      "Total params: 242,062\n",
      "Trainable params: 242,062\n",
      "Non-trainable params: 0\n",
      "_________________________________________________________________\n",
      "\n"
     ]
    }
   ],
   "source": [
    "model.add(Flatten())  \n",
    "\n",
    "model.add(Dense(128, activation='relu'))  \n",
    "model.add(Dropout(0.5))  \n",
    "\n",
    "model.add(Dense(10, activation='softmax'))  \n",
    "\n",
    "model.summary()  \n",
    "print(\"\")  \n"
   ]
  },
  {
   "cell_type": "code",
   "execution_count": 7,
   "metadata": {},
   "outputs": [
    {
     "name": "stdout",
     "output_type": "stream",
     "text": [
      "Train on 48000 samples, validate on 12000 samples\n",
      "Epoch 1/10\n",
      " - 42s - loss: 0.4902 - acc: 0.8481 - val_loss: 0.0929 - val_acc: 0.9709\n",
      "Epoch 2/10\n",
      " - 38s - loss: 0.1307 - acc: 0.9606 - val_loss: 0.0615 - val_acc: 0.9814\n",
      "Epoch 3/10\n",
      " - 43s - loss: 0.1000 - acc: 0.9706 - val_loss: 0.0495 - val_acc: 0.9842\n",
      "Epoch 4/10\n",
      " - 45s - loss: 0.0771 - acc: 0.9771 - val_loss: 0.0429 - val_acc: 0.9873\n",
      "Epoch 5/10\n",
      " - 41s - loss: 0.0672 - acc: 0.9795 - val_loss: 0.0421 - val_acc: 0.9887\n",
      "Epoch 6/10\n",
      " - 55s - loss: 0.0586 - acc: 0.9827 - val_loss: 0.0362 - val_acc: 0.9895\n",
      "Epoch 7/10\n",
      " - 54s - loss: 0.0536 - acc: 0.9838 - val_loss: 0.0374 - val_acc: 0.9886\n",
      "Epoch 8/10\n",
      " - 44s - loss: 0.0466 - acc: 0.9858 - val_loss: 0.0340 - val_acc: 0.9902\n",
      "Epoch 9/10\n",
      " - 43s - loss: 0.0445 - acc: 0.9868 - val_loss: 0.0334 - val_acc: 0.9915\n",
      "Epoch 10/10\n",
      " - 42s - loss: 0.0415 - acc: 0.9873 - val_loss: 0.0335 - val_acc: 0.9903\n"
     ]
    }
   ],
   "source": [
    "# 定義訓練方式  \n",
    "model.compile(loss='categorical_crossentropy', optimizer='adam', metrics=['accuracy'])  \n",
    "  \n",
    "# 開始訓練  \n",
    "train_history = model.fit(x=X_Train40_norm,  \n",
    "                          y=y_TrainOneHot, validation_split=0.2,  \n",
    "                          epochs=5, batch_size=30, verbose=2)  "
   ]
  },
  {
   "cell_type": "code",
   "execution_count": 13,
   "metadata": {},
   "outputs": [],
   "source": [
    "%matplotlib inline\n",
    "\n",
    "import os  \n",
    "import matplotlib.pyplot as plt  \n",
    "\n",
    "def isDisplayAvl():  \n",
    "    return 'DISPLAY' in os.environ.keys()    \n",
    "\n",
    "def plot_image(image):  \n",
    "    fig = plt.gcf()  \n",
    "    fig.set_size_inches(2,2)  \n",
    "    plt.imshow(image, cmap='binary')  \n",
    "    plt.show()  \n",
    "\n",
    "def plot_images_labels_predict(images, labels, prediction, idx, num=10):  \n",
    "    fig = plt.gcf()  \n",
    "    fig.set_size_inches(12, 14)  \n",
    "    if num > 25: num = 25  \n",
    "    for i in range(0, num):  \n",
    "        ax=plt.subplot(5,5, 1+i)  \n",
    "        ax.imshow(images[idx], cmap='binary')  \n",
    "        title = \"l=\" + str(labels[idx])  \n",
    "        if len(prediction) > 0:  \n",
    "            title = \"l={},p={}\".format(str(labels[idx]), str(prediction[idx]))  \n",
    "        else:  \n",
    "            title = \"l={}\".format(str(labels[idx]))  \n",
    "        ax.set_title(title, fontsize=10)  \n",
    "        ax.set_xticks([]); ax.set_yticks([])  \n",
    "        idx+=1  \n",
    "    plt.show()  \n",
    "\n",
    "def show_train_history(train_history, train, validation):  \n",
    "    plt.plot(train_history.history[train])  \n",
    "    plt.plot(train_history.history[validation])  \n",
    "    plt.title('Train History')  \n",
    "    plt.ylabel(train)  \n",
    "    plt.xlabel('Epoch')  \n",
    "    plt.legend(['train', 'validation'], loc='upper left')  \n",
    "    plt.show()  "
   ]
  },
  {
   "cell_type": "code",
   "execution_count": 15,
   "metadata": {},
   "outputs": [
    {
     "data": {
      "image/png": "[encoded data removed]",
      "text/plain": [
       "<Figure size 432x288 with 1 Axes>"
      ]
     },
     "metadata": {},
     "output_type": "display_data"
    },
    {
     "data": {
      "image/png": "[encoded data removed]",
      "text/plain": [
       "<Figure size 432x288 with 1 Axes>"
      ]
     },
     "metadata": {},
     "output_type": "display_data"
    }
   ],
   "source": [
    "from utils import *  \n",
    "if isDisplayAvl():  \n",
    "    show_train_history(train_history, 'acc', 'val_acc')  \n",
    "    show_train_history(train_history, 'loss', 'val_loss')  "
   ]
  },
  {
   "cell_type": "code",
   "execution_count": 18,
   "metadata": {},
   "outputs": [
    {
     "name": "stdout",
     "output_type": "stream",
     "text": [
      "10000/10000 [==============================] - 6s 637us/step\n",
      "\n",
      "\t[Info] Accuracy of testing data = 98.7%\n",
      "\t[Info] Making prediction of X_Test4D_norm\n",
      "\n",
      "\t[Info] Show 10 prediction result (From 240):\n",
      "[5 9 8 7 2 3 0 2 4 2]\n",
      "\n"
     ]
    },
    {
     "data": {
      "image/png": "[encoded data removed]",
      "text/plain": [
       "<Figure size 864x1008 with 10 Axes>"
      ]
     },
     "metadata": {},
     "output_type": "display_data"
    }
   ],
   "source": [
    "scores = model.evaluate(X_Test40_norm, y_TestOneHot)  \n",
    "print()  \n",
    "print(\"\\t[Info] Accuracy of testing data = {:2.1f}%\".format(scores[1]*100.0))  \n",
    "\n",
    "\n",
    "print(\"\\t[Info] Making prediction of X_Test4D_norm\")  \n",
    "prediction = model.predict_classes(X_Test40_norm)  # Making prediction and save result to prediction  \n",
    "print()  \n",
    "print(\"\\t[Info] Show 10 prediction result (From 240):\")  \n",
    "print(\"%s\\n\" % (prediction[240:250]))  \n",
    "\n",
    "\n",
    "if isDisplayAvl():  \n",
    "    plot_images_labels_predict(X_Test, y_Test, prediction, idx=240)  "
   ]
  },
  {
   "cell_type": "code",
   "execution_count": 19,
   "metadata": {},
   "outputs": [
    {
     "name": "stdout",
     "output_type": "stream",
     "text": [
      "\t[Info] Display Confusion Matrix:\n",
      "predict    0     1     2     3    4    5    6    7    8    9\n",
      "label                                                       \n",
      "0        971     0     0     0    0    0    6    1    2    0\n",
      "1          0  1120     2     2    1    0    2    1    7    0\n",
      "2          0     0  1022     1    0    0    2    1    6    0\n",
      "3          1     0     0  1006    0    1    0    0    2    0\n",
      "4          0     1     1     0  964    0    5    0    2    9\n",
      "5          0     0     0     6    0  883    1    0    2    0\n",
      "6          2     2     1     0    1    1  949    0    2    0\n",
      "7          0     4     8     3    1    2    0  993    3   14\n",
      "8          0     0     0     0    0    0    0    0  973    1\n",
      "9          2     3     0     1    1    0    0    1   11  990\n",
      "\n"
     ]
    }
   ],
   "source": [
    "import pandas as pd  \n",
    "print(\"\\t[Info] Display Confusion Matrix:\")  \n",
    "print(\"%s\\n\" % pd.crosstab(y_Test, prediction, rownames=['label'], colnames=['predict']))  "
   ]
  },
  {
   "cell_type": "code",
   "execution_count": 23,
   "metadata": {},
   "outputs": [
    {
     "name": "stdout",
     "output_type": "stream",
     "text": [
      "_________________________________________________________________\n",
      "Layer (type)                 Output Shape              Param #   \n",
      "=================================================================\n",
      "conv2d_15 (Conv2D)           (None, 32, 28, 28)        832       \n",
      "_________________________________________________________________\n",
      "max_pooling2d_15 (MaxPooling (None, 32, 14, 14)        0         \n",
      "_________________________________________________________________\n",
      "conv2d_16 (Conv2D)           (None, 64, 14, 14)        51264     \n",
      "_________________________________________________________________\n",
      "max_pooling2d_16 (MaxPooling (None, 64, 7, 7)          0         \n",
      "_________________________________________________________________\n",
      "flatten_7 (Flatten)          (None, 3136)              0         \n",
      "_________________________________________________________________\n",
      "dense_13 (Dense)             (None, 1024)              3212288   \n",
      "_________________________________________________________________\n",
      "activation_11 (Activation)   (None, 1024)              0         \n",
      "_________________________________________________________________\n",
      "dense_14 (Dense)             (None, 10)                10250     \n",
      "_________________________________________________________________\n",
      "activation_12 (Activation)   (None, 10)                0         \n",
      "=================================================================\n",
      "Total params: 3,274,634\n",
      "Trainable params: 3,274,634\n",
      "Non-trainable params: 0\n",
      "_________________________________________________________________\n",
      "Epoch 1/1\n",
      "60000/60000 [==============================] - 301s 5ms/step - loss: 0.0970 - acc: 0.9693\n",
      "making prediction\n",
      "10000/10000 [==============================] - 24s 2ms/step\n",
      "\n",
      "\t[Info] Accuracy of testing data = 98.8%\n"
     ]
    }
   ],
   "source": [
    "from keras.layers import Dense, Activation, Conv2D, MaxPooling2D, Flatten\n",
    "from keras.models import Sequential  \n",
    "  \n",
    "model = Sequential()  \n",
    "# model.add(Conv2D(\n",
    "#     batch_input_shape=(64, 1, 28, 28),  #batch, channels, height, width\n",
    "#     filters=32,\n",
    "#     kernel_size=5,\n",
    "#     strides=1,\n",
    "#     padding='same',      # Padding method\n",
    "#     data_format='channels_first',\n",
    "# ))\n",
    "\n",
    "model.add(Conv2D(\n",
    "    filters=32, \n",
    "    kernel_size=(5, 5), \n",
    "    strides=(1, 1),\n",
    "    padding='same',      # Padding method\n",
    "    data_format='channels_first',\n",
    "    input_shape=(1, 28, 28),\n",
    "    activation='relu'\n",
    "))\n",
    "\n",
    "# model.add(Activation('relu'))\n",
    "\n",
    "model.add(MaxPooling2D(\n",
    "    pool_size=(2, 2),\n",
    "    strides=(2, 2),\n",
    "    padding='same',    # Padding method\n",
    "    data_format='channels_first',\n",
    "))\n",
    "\n",
    "model.add(Conv2D(\n",
    "    64, \n",
    "    5, \n",
    "    strides=1, \n",
    "    padding='same', \n",
    "    data_format='channels_first', \n",
    "    activation='relu'\n",
    "))\n",
    "\n",
    "# model.add(Activation('relu'))\n",
    "model.add(MaxPooling2D(\n",
    "    2, \n",
    "    2, \n",
    "    'same', \n",
    "    data_format='channels_first'\n",
    "))\n",
    "\n",
    "model.add(Flatten())\n",
    "model.add(Dense(1024))\n",
    "model.add(Activation('relu'))\n",
    "\n",
    "model.add(Dense(10))\n",
    "model.add(Activation('softmax'))\n",
    "\n",
    "model.summary()\n",
    "\n",
    "model.compile(optimizer='adam',\n",
    "              loss='categorical_crossentropy',\n",
    "              metrics=['accuracy'])\n",
    "\n",
    "model.fit(X_Train40_norm, y_TrainOneHot, epochs=1, batch_size=32,)\n",
    "\n",
    "# model.fit(x=X_Train40_norm,  \n",
    "#                           y=y_TrainOneHot, validation_split=0.2,  \n",
    "#                           epochs=10, batch_size=300, verbose=2)  \n",
    "print() \n",
    "print('making prediction')  \n",
    "scores = model.evaluate(X_Test40_norm, y_TestOneHot)  \n",
    " \n",
    "print(\"\\t[Info] Accuracy of testing data = {:2.1f}%\".format(scores[1]*100.0))  "
   ]
  },
  {
   "cell_type": "code",
   "execution_count": 24,
   "metadata": {},
   "outputs": [
    {
     "data": {
      "text/plain": [
       "0.397"
      ]
     },
     "execution_count": 24,
     "metadata": {},
     "output_type": "execute_result"
    }
   ],
   "source": [
    "def get_model_memory_usage(batch_size, model):\n",
    "    import numpy as np\n",
    "    from keras import backend as K\n",
    "\n",
    "    shapes_mem_count = 0\n",
    "    for l in model.layers:\n",
    "        single_layer_mem = 1\n",
    "        for s in l.output_shape:\n",
    "            if s is None:\n",
    "                continue\n",
    "            single_layer_mem *= s\n",
    "        shapes_mem_count += single_layer_mem\n",
    "\n",
    "    trainable_count = np.sum([K.count_params(p) for p in set(model.trainable_weights)])\n",
    "    non_trainable_count = np.sum([K.count_params(p) for p in set(model.non_trainable_weights)])\n",
    "\n",
    "    total_memory = 4.0*batch_size*(shapes_mem_count + trainable_count + non_trainable_count)\n",
    "    gbytes = np.round(total_memory / (1024.0 ** 3), 3)\n",
    "    return gbytes\n",
    "\n",
    "get_model_memory_usage(32, model)"
   ]
  },
  {
   "cell_type": "code",
   "execution_count": 76,
   "metadata": {
    "scrolled": true
   },
   "outputs": [
    {
     "name": "stdout",
     "output_type": "stream",
     "text": [
      "<keras.layers.convolutional.Conv2D object at 0x13c4acd68>\n",
      "<keras.layers.pooling.MaxPooling2D object at 0x10d258198>\n",
      "<keras.layers.convolutional.Conv2D object at 0x10c0ee5c0>\n",
      "<keras.layers.pooling.MaxPooling2D object at 0x13e4e0390>\n",
      "<keras.layers.core.Flatten object at 0x13c497630>\n",
      "<keras.layers.core.Dense object at 0x13c497fd0>\n",
      "<keras.layers.core.Activation object at 0x13c3cbba8>\n",
      "<keras.layers.core.Dense object at 0x14369d9b0>\n",
      "<keras.layers.core.Activation object at 0x14369de48>\n"
     ]
    }
   ],
   "source": [
    "import keras.backend as K\n",
    "\n",
    "for l in model.layers:\n",
    "    print(l)\n",
    "#     if 'conv' in l.name:\n",
    "#         l_weight = l.get_weights()\n",
    "#         print(l_weight[1].)\n",
    "        "
   ]
  },
  {
   "cell_type": "code",
   "execution_count": 45,
   "metadata": {},
   "outputs": [],
   "source": [
    "# utility functions\n",
    "from mpl_toolkits.axes_grid1 import make_axes_locatable\n",
    "\n",
    "def nice_imshow(ax, data, vmin=None, vmax=None, cmap=None):\n",
    "    \"\"\"Wrapper around pl.imshow\"\"\"\n",
    "    if cmap is None:\n",
    "        cmap = cm.jet\n",
    "    if vmin is None:\n",
    "        vmin = data.min()\n",
    "    if vmax is None:\n",
    "        vmax = data.max()\n",
    "    divider = make_axes_locatable(ax)\n",
    "    cax = divider.append_axes(\"right\", size=\"5%\", pad=0.05)\n",
    "    im = ax.imshow(data, vmin=vmin, vmax=vmax, interpolation='nearest', cmap=cmap)\n",
    "    pl.colorbar(im, cax=cax)"
   ]
  },
  {
   "cell_type": "code",
   "execution_count": 55,
   "metadata": {},
   "outputs": [
    {
     "data": {
      "image/png": "[encoded data removed]",
      "text/plain": [
       "<Figure size 432x288 with 2 Axes>"
      ]
     },
     "metadata": {},
     "output_type": "display_data"
    }
   ],
   "source": [
    "# Visualize the first layer of convolutions on an input image\n",
    "import pylab as pl\n",
    "import matplotlib.cm as cm\n",
    "\n",
    "X = X_Test40_norm[5]\n",
    "\n",
    "pl.figure()\n",
    "pl.title('input')\n",
    "nice_imshow(pl.gca(), np.squeeze(X), vmin=0, vmax=1, cmap=cm.binary)"
   ]
  },
  {
   "cell_type": "code",
   "execution_count": 51,
   "metadata": {},
   "outputs": [],
   "source": [
    "import numpy.ma as ma\n",
    "def make_mosaic(imgs, nrows, ncols, border=1):\n",
    "    \"\"\"\n",
    "    Given a set of images with all the same shape, makes a\n",
    "    mosaic with nrows and ncols\n",
    "    \"\"\"\n",
    "    nimgs = imgs.shape[0]\n",
    "    imshape = imgs.shape[1:]\n",
    "    \n",
    "    mosaic = ma.masked_all((nrows * imshape[0] + (nrows - 1) * border,\n",
    "                            ncols * imshape[1] + (ncols - 1) * border),\n",
    "                            dtype=np.float32)\n",
    "    \n",
    "    paddedh = imshape[0] + border\n",
    "    paddedw = imshape[1] + border\n",
    "    for i in xrange(nimgs):\n",
    "        row = int(np.floor(i / ncols))\n",
    "        col = i % ncols\n",
    "        \n",
    "        mosaic[row * paddedh:row * paddedh + imshape[0],\n",
    "               col * paddedw:col * paddedw + imshape[1]] = imgs[i]\n",
    "    return mosaic"
   ]
  },
  {
   "cell_type": "code",
   "execution_count": 79,
   "metadata": {},
   "outputs": [
    {
     "name": "stdout",
     "output_type": "stream",
     "text": [
      "<keras.layers.convolutional.Conv2D object at 0x13c4acd68>\n",
      "(5, 5, 1, 32) (32,)\n",
      "W shape :  (32, 5, 5)\n"
     ]
    },
    {
     "data": {
      "image/png": "[encoded data removed]",
      "text/plain": [
       "<Figure size 720x720 with 2 Axes>"
      ]
     },
     "metadata": {},
     "output_type": "display_data"
    }
   ],
   "source": [
    "# Visualize weights\n",
    "\n",
    "W = model.layers[0].get_weights()  #w&b\n",
    "print(model.layers[0])\n",
    "print(W[0].shape, W[1].shape)\n",
    "W = np.squeeze(W[0], axis=2).reshape(32, 5, 5)\n",
    "xrange=range\n",
    "print(\"W shape : \", W.shape)\n",
    "\n",
    "pl.figure(figsize=(10, 10))\n",
    "pl.title('conv1 weights')\n",
    "nice_imshow(pl.gca(), make_mosaic(W, 6, 6), cmap=cm.binary)"
   ]
  },
  {
   "cell_type": "code",
   "execution_count": 88,
   "metadata": {},
   "outputs": [
    {
     "name": "stdout",
     "output_type": "stream",
     "text": [
      "<keras.layers.convolutional.Conv2D object at 0x10c0ee5c0>\n",
      "(5, 5, 32, 64) (64,)\n",
      "W shape :  (5, 5, 32, 64)\n",
      "W shape :  (64, 5, 5)\n"
     ]
    },
    {
     "data": {
      "image/png": "[encoded data removed]",
      "text/plain": [
       "<Figure size 1080x1080 with 2 Axes>"
      ]
     },
     "metadata": {},
     "output_type": "display_data"
    }
   ],
   "source": [
    "print(model.layers[2])\n",
    "W = model.layers[2].get_weights()  #w&b\n",
    "print(W[0].shape, W[1].shape)\n",
    "# W = np.squeeze(W[0], axis=2)#.reshape(64, 5, 5, 32)\n",
    "# W[0=np.array(W[0])\n",
    "print(\"W shape : \", W[0].shape)\n",
    "W = W[0][:, :, 0, :].reshape(64, 5, 5)\n",
    "xrange=range\n",
    "print(\"W shape : \", W.shape)\n",
    "\n",
    "pl.figure(figsize=(15, 15))\n",
    "pl.title('conv1 weights')\n",
    "nice_imshow(pl.gca(), make_mosaic(W, 8, 8), cmap=cm.binary)"
   ]
  },
  {
   "cell_type": "code",
   "execution_count": null,
   "metadata": {},
   "outputs": [],
   "source": []
  }
 ],
 "metadata": {
  "kernelspec": {
   "display_name": "Python 3",
   "language": "python",
   "name": "python3"
  },
  "language_info": {
   "codemirror_mode": {
    "name": "ipython",
    "version": 3
   },
   "file_extension": ".py",
   "mimetype": "text/x-python",
   "name": "python",
   "nbconvert_exporter": "python",
   "pygments_lexer": "ipython3",
   "version": "3.6.6"
  }
 },
 "nbformat": 4,
 "nbformat_minor": 2
}
