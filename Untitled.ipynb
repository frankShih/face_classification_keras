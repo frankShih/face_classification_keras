{
 "cells": [
  {
   "cell_type": "code",
   "execution_count": 22,
   "metadata": {},
   "outputs": [],
   "source": [
    "label=[]\n",
    "raw_image=[]\n",
    "\n",
    "for line in open('./Homework/train.csv'):\n",
    "#     line = f.readline()\n",
    "    line = line.split(',')\n",
    "#     print(line)\n",
    "    if not(line[0].isdigit()):\n",
    "        continue\n",
    "    label.append(line[0])\n",
    "    raw_image.append(line[1].split())    \n",
    "\n",
    "    \n",
    "    \n",
    "# with open('./Homework/train.csv') as f:\n",
    "#     content = f.readlines()\n",
    "# # you may also want to remove whitespace characters like `\\n` at the end of each line\n",
    "# content = [x.strip() for x in content] "
   ]
  },
  {
   "cell_type": "code",
   "execution_count": null,
   "metadata": {},
   "outputs": [],
   "source": [
    "import numpy as np\n",
    "# temp = np.array(raw_image).reshape(len(raw_image),48,48).astype(np.int)\n",
    "\n",
    "# plot_image(temp[0])\n",
    "# temp.tofile('raw_image.txt',sep=\",\")\n",
    "\n",
    "temp = np.fromfile('raw_image.txt',sep=\",\")\n",
    "plot_image(temp[0])"
   ]
  },
  {
   "cell_type": "code",
   "execution_count": 43,
   "metadata": {},
   "outputs": [
    {
     "name": "stdout",
     "output_type": "stream",
     "text": [
      "[[0]\n",
      " [0]\n",
      " [2]\n",
      " [4]\n",
      " [6]\n",
      " [2]\n",
      " [4]\n",
      " [3]\n",
      " [3]\n",
      " [2]]\n",
      "[0. 0. 2. 4. 6. 2. 4. 3. 3. 2.]\n"
     ]
    }
   ],
   "source": [
    "temp = np.array(label).reshape(len(label),1).astype(np.int)\n",
    "print(temp[:10])\n",
    "\n",
    "# temp.tofile('label.txt',sep=\",\")\n",
    "temp = np.fromfile('label.txt',sep=\",\")\n",
    "print(temp[:10])"
   ]
  },
  {
   "cell_type": "code",
   "execution_count": 33,
   "metadata": {},
   "outputs": [
    {
     "name": "stdout",
     "output_type": "stream",
     "text": [
      "<class 'numpy.int32'>\n",
      "[[ 70  80  82 ...  52  43  41]\n",
      " [ 65  61  58 ...  56  52  44]\n",
      " [ 50  43  54 ...  49  56  47]\n",
      " ...\n",
      " [ 91  65  42 ...  72  56  43]\n",
      " [ 77  82  79 ... 105  70  46]\n",
      " [ 77  72  84 ... 106 109  82]]\n"
     ]
    }
   ],
   "source": [
    "import numpy as np\n",
    "temp = np.array(raw_image[0]).reshape(48,48).astype(np.int)\n",
    "print(type(temp[0][0]))\n",
    "# temp = temp/255\n",
    "print(temp)"
   ]
  },
  {
   "cell_type": "code",
   "execution_count": 34,
   "metadata": {},
   "outputs": [
    {
     "data": {
      "image/png": "[encoded data removed]",
      "text/plain": [
       "<Figure size 144x144 with 1 Axes>"
      ]
     },
     "metadata": {},
     "output_type": "display_data"
    }
   ],
   "source": [
    "%matplotlib inline\n",
    "\n",
    "import os  \n",
    "import matplotlib.pyplot as plt  \n",
    "\n",
    "def plot_image(image):  \n",
    "    fig = plt.gcf()  \n",
    "    fig.set_size_inches(2,2)  \n",
    "    plt.imshow(image, cmap='binary')  \n",
    "    plt.show()  \n",
    "    \n",
    "    \n",
    "plot_image(temp)    "
   ]
  },
  {
   "cell_type": "code",
   "execution_count": null,
   "metadata": {},
   "outputs": [],
   "source": []
  }
 ],
 "metadata": {
  "kernelspec": {
   "display_name": "Python 3",
   "language": "python",
   "name": "python3"
  },
  "language_info": {
   "codemirror_mode": {
    "name": "ipython",
    "version": 3
   },
   "file_extension": ".py",
   "mimetype": "text/x-python",
   "name": "python",
   "nbconvert_exporter": "python",
   "pygments_lexer": "ipython3",
   "version": "3.6.4"
  }
 },
 "nbformat": 4,
 "nbformat_minor": 2
}
